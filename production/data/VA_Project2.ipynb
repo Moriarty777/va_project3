{
  "nbformat": 4,
  "nbformat_minor": 0,
  "metadata": {
    "colab": {
      "provenance": []
    },
    "kernelspec": {
      "name": "python3",
      "display_name": "Python 3"
    },
    "language_info": {
      "name": "python"
    }
  },
  "cells": [
    {
      "cell_type": "code",
      "source": [
        "!python -m spacy download en_core_web_lg"
      ],
      "metadata": {
        "colab": {
          "base_uri": "https://localhost:8080/"
        },
        "id": "wL0YuiEJuIeQ",
        "outputId": "480dc006-fc4a-46e6-e1bd-e93a4d1abde2"
      },
      "execution_count": 2,
      "outputs": [
        {
          "output_type": "stream",
          "name": "stdout",
          "text": [
            "/usr/local/lib/python3.9/dist-packages/torch/cuda/__init__.py:497: UserWarning: Can't initialize NVML\n",
            "  warnings.warn(\"Can't initialize NVML\")\n",
            "2023-03-29 00:00:06.219966: I tensorflow/core/platform/cpu_feature_guard.cc:193] This TensorFlow binary is optimized with oneAPI Deep Neural Network Library (oneDNN) to use the following CPU instructions in performance-critical operations:  AVX2 FMA\n",
            "To enable them in other operations, rebuild TensorFlow with the appropriate compiler flags.\n",
            "2023-03-29 00:00:07.169342: W tensorflow/compiler/xla/stream_executor/platform/default/dso_loader.cc:64] Could not load dynamic library 'libnvinfer.so.7'; dlerror: libnvinfer.so.7: cannot open shared object file: No such file or directory; LD_LIBRARY_PATH: /usr/local/nvidia/lib:/usr/local/nvidia/lib64\n",
            "2023-03-29 00:00:07.169435: W tensorflow/compiler/xla/stream_executor/platform/default/dso_loader.cc:64] Could not load dynamic library 'libnvinfer_plugin.so.7'; dlerror: libnvinfer_plugin.so.7: cannot open shared object file: No such file or directory; LD_LIBRARY_PATH: /usr/local/nvidia/lib:/usr/local/nvidia/lib64\n",
            "2023-03-29 00:00:07.169457: W tensorflow/compiler/tf2tensorrt/utils/py_utils.cc:38] TF-TRT Warning: Cannot dlopen some TensorRT libraries. If you would like to use Nvidia GPU with TensorRT, please make sure the missing libraries mentioned above are installed properly.\n",
            "2023-03-29 00:00:08.508406: E tensorflow/compiler/xla/stream_executor/cuda/cuda_driver.cc:267] failed call to cuInit: CUDA_ERROR_NO_DEVICE: no CUDA-capable device is detected\n",
            "Looking in indexes: https://pypi.org/simple, https://us-python.pkg.dev/colab-wheels/public/simple/\n",
            "Collecting en-core-web-lg==3.5.0\n",
            "  Downloading https://github.com/explosion/spacy-models/releases/download/en_core_web_lg-3.5.0/en_core_web_lg-3.5.0-py3-none-any.whl (587.7 MB)\n",
            "\u001b[2K     \u001b[90m━━━━━━━━━━━━━━━━━━━━━━━━━━━━━━━━━━━━━━━\u001b[0m \u001b[32m587.7/587.7 MB\u001b[0m \u001b[31m3.0 MB/s\u001b[0m eta \u001b[36m0:00:00\u001b[0m\n",
            "\u001b[?25hRequirement already satisfied: spacy<3.6.0,>=3.5.0 in /usr/local/lib/python3.9/dist-packages (from en-core-web-lg==3.5.0) (3.5.1)\n",
            "Requirement already satisfied: spacy-legacy<3.1.0,>=3.0.11 in /usr/local/lib/python3.9/dist-packages (from spacy<3.6.0,>=3.5.0->en-core-web-lg==3.5.0) (3.0.12)\n",
            "Requirement already satisfied: packaging>=20.0 in /usr/local/lib/python3.9/dist-packages (from spacy<3.6.0,>=3.5.0->en-core-web-lg==3.5.0) (23.0)\n",
            "Requirement already satisfied: preshed<3.1.0,>=3.0.2 in /usr/local/lib/python3.9/dist-packages (from spacy<3.6.0,>=3.5.0->en-core-web-lg==3.5.0) (3.0.8)\n",
            "Requirement already satisfied: murmurhash<1.1.0,>=0.28.0 in /usr/local/lib/python3.9/dist-packages (from spacy<3.6.0,>=3.5.0->en-core-web-lg==3.5.0) (1.0.9)\n",
            "Requirement already satisfied: jinja2 in /usr/local/lib/python3.9/dist-packages (from spacy<3.6.0,>=3.5.0->en-core-web-lg==3.5.0) (3.1.2)\n",
            "Requirement already satisfied: tqdm<5.0.0,>=4.38.0 in /usr/local/lib/python3.9/dist-packages (from spacy<3.6.0,>=3.5.0->en-core-web-lg==3.5.0) (4.65.0)\n",
            "Requirement already satisfied: typer<0.8.0,>=0.3.0 in /usr/local/lib/python3.9/dist-packages (from spacy<3.6.0,>=3.5.0->en-core-web-lg==3.5.0) (0.7.0)\n",
            "Requirement already satisfied: setuptools in /usr/local/lib/python3.9/dist-packages (from spacy<3.6.0,>=3.5.0->en-core-web-lg==3.5.0) (67.6.0)\n",
            "Requirement already satisfied: spacy-loggers<2.0.0,>=1.0.0 in /usr/local/lib/python3.9/dist-packages (from spacy<3.6.0,>=3.5.0->en-core-web-lg==3.5.0) (1.0.4)\n",
            "Requirement already satisfied: requests<3.0.0,>=2.13.0 in /usr/local/lib/python3.9/dist-packages (from spacy<3.6.0,>=3.5.0->en-core-web-lg==3.5.0) (2.27.1)\n",
            "Requirement already satisfied: langcodes<4.0.0,>=3.2.0 in /usr/local/lib/python3.9/dist-packages (from spacy<3.6.0,>=3.5.0->en-core-web-lg==3.5.0) (3.3.0)\n",
            "Requirement already satisfied: wasabi<1.2.0,>=0.9.1 in /usr/local/lib/python3.9/dist-packages (from spacy<3.6.0,>=3.5.0->en-core-web-lg==3.5.0) (1.1.1)\n",
            "Requirement already satisfied: smart-open<7.0.0,>=5.2.1 in /usr/local/lib/python3.9/dist-packages (from spacy<3.6.0,>=3.5.0->en-core-web-lg==3.5.0) (6.3.0)\n",
            "Requirement already satisfied: numpy>=1.15.0 in /usr/local/lib/python3.9/dist-packages (from spacy<3.6.0,>=3.5.0->en-core-web-lg==3.5.0) (1.22.4)\n",
            "Requirement already satisfied: catalogue<2.1.0,>=2.0.6 in /usr/local/lib/python3.9/dist-packages (from spacy<3.6.0,>=3.5.0->en-core-web-lg==3.5.0) (2.0.8)\n",
            "Requirement already satisfied: cymem<2.1.0,>=2.0.2 in /usr/local/lib/python3.9/dist-packages (from spacy<3.6.0,>=3.5.0->en-core-web-lg==3.5.0) (2.0.7)\n",
            "Requirement already satisfied: srsly<3.0.0,>=2.4.3 in /usr/local/lib/python3.9/dist-packages (from spacy<3.6.0,>=3.5.0->en-core-web-lg==3.5.0) (2.4.6)\n",
            "Requirement already satisfied: pydantic!=1.8,!=1.8.1,<1.11.0,>=1.7.4 in /usr/local/lib/python3.9/dist-packages (from spacy<3.6.0,>=3.5.0->en-core-web-lg==3.5.0) (1.10.7)\n",
            "Requirement already satisfied: thinc<8.2.0,>=8.1.8 in /usr/local/lib/python3.9/dist-packages (from spacy<3.6.0,>=3.5.0->en-core-web-lg==3.5.0) (8.1.9)\n",
            "Requirement already satisfied: pathy>=0.10.0 in /usr/local/lib/python3.9/dist-packages (from spacy<3.6.0,>=3.5.0->en-core-web-lg==3.5.0) (0.10.1)\n",
            "Requirement already satisfied: typing-extensions>=4.2.0 in /usr/local/lib/python3.9/dist-packages (from pydantic!=1.8,!=1.8.1,<1.11.0,>=1.7.4->spacy<3.6.0,>=3.5.0->en-core-web-lg==3.5.0) (4.5.0)\n",
            "Requirement already satisfied: charset-normalizer~=2.0.0 in /usr/local/lib/python3.9/dist-packages (from requests<3.0.0,>=2.13.0->spacy<3.6.0,>=3.5.0->en-core-web-lg==3.5.0) (2.0.12)\n",
            "Requirement already satisfied: certifi>=2017.4.17 in /usr/local/lib/python3.9/dist-packages (from requests<3.0.0,>=2.13.0->spacy<3.6.0,>=3.5.0->en-core-web-lg==3.5.0) (2022.12.7)\n",
            "Requirement already satisfied: urllib3<1.27,>=1.21.1 in /usr/local/lib/python3.9/dist-packages (from requests<3.0.0,>=2.13.0->spacy<3.6.0,>=3.5.0->en-core-web-lg==3.5.0) (1.26.15)\n",
            "Requirement already satisfied: idna<4,>=2.5 in /usr/local/lib/python3.9/dist-packages (from requests<3.0.0,>=2.13.0->spacy<3.6.0,>=3.5.0->en-core-web-lg==3.5.0) (3.4)\n",
            "Requirement already satisfied: confection<1.0.0,>=0.0.1 in /usr/local/lib/python3.9/dist-packages (from thinc<8.2.0,>=8.1.8->spacy<3.6.0,>=3.5.0->en-core-web-lg==3.5.0) (0.0.4)\n",
            "Requirement already satisfied: blis<0.8.0,>=0.7.8 in /usr/local/lib/python3.9/dist-packages (from thinc<8.2.0,>=8.1.8->spacy<3.6.0,>=3.5.0->en-core-web-lg==3.5.0) (0.7.9)\n",
            "Requirement already satisfied: click<9.0.0,>=7.1.1 in /usr/local/lib/python3.9/dist-packages (from typer<0.8.0,>=0.3.0->spacy<3.6.0,>=3.5.0->en-core-web-lg==3.5.0) (8.1.3)\n",
            "Requirement already satisfied: MarkupSafe>=2.0 in /usr/local/lib/python3.9/dist-packages (from jinja2->spacy<3.6.0,>=3.5.0->en-core-web-lg==3.5.0) (2.1.2)\n",
            "Installing collected packages: en-core-web-lg\n",
            "Successfully installed en-core-web-lg-3.5.0\n",
            "\u001b[38;5;2m✔ Download and installation successful\u001b[0m\n",
            "You can now load the package via spacy.load('en_core_web_lg')\n"
          ]
        }
      ]
    },
    {
      "cell_type": "code",
      "source": [
        "import os\n",
        "import spacy\n",
        "import string\n",
        "from spacy.lang.en.stop_words import STOP_WORDS\n",
        "from collections import Counter\n",
        "import statistics\n",
        "from statistics import mode\n",
        "\n",
        "nlp = spacy.load(\"en_core_web_lg\")"
      ],
      "metadata": {
        "id": "Eb_f5TsRueMi",
        "colab": {
          "base_uri": "https://localhost:8080/"
        },
        "outputId": "b46d4e35-f69a-4bc9-9c56-c7f981053d85"
      },
      "execution_count": 3,
      "outputs": [
        {
          "output_type": "stream",
          "name": "stderr",
          "text": [
            "/usr/local/lib/python3.9/dist-packages/torch/cuda/__init__.py:497: UserWarning: Can't initialize NVML\n",
            "  warnings.warn(\"Can't initialize NVML\")\n"
          ]
        }
      ]
    },
    {
      "cell_type": "code",
      "source": [
        "path = \"/content/data\"\n",
        "dir_list = os.listdir(path)\n",
        "os.chdir(\"/content/data\")\n",
        "\n",
        "universal_new_lines = '\\n' + '\\r' + '\\r\\n' + '\\v' + '\\x0b' + '\\f' + '\\x0c' + '\\x1c' + '\\x1d' + '\\x1e' + '\\x85' + '\\u2028' + '\\u2029' \n",
        "pun = string.punctuation + '\\t' + '—' + '‘’' + universal_new_lines\n",
        "processed_data = []"
      ],
      "metadata": {
        "id": "d1QNi8J9uj7V"
      },
      "execution_count": 4,
      "outputs": []
    },
    {
      "cell_type": "code",
      "source": [
        "def data_processing(data):\n",
        "  # removing punctuations and new lines and tabs\n",
        "  for sym in pun:\n",
        "    cnt = data.count(sym)\n",
        "    data = data.replace(sym, '', cnt)\n",
        "\n",
        "  # lower the data\n",
        "  data = data.lower()\n",
        "  doc = nlp(data)\n",
        "\n",
        "  year = []\n",
        "  gpe = []\n",
        "  yr = ['2001', '2002', '2003', '2004']\n",
        "  for token in doc:\n",
        "    if token.pos_ == 'NUM' and token.shape_ == 'dddd' and token.text in yr:\n",
        "      year.append(token.text)\n",
        "\n",
        "  for ent in doc.ents:\n",
        "    if ent.label_ == 'GPE':\n",
        "      gpe.append(ent.text)\n",
        "\n",
        "  if len(year) == 0:\n",
        "    y = 'NA'\n",
        "  else:\n",
        "    y = mode(year)\n",
        "  \n",
        "  if len(gpe) == 0:\n",
        "    g = 'NA'\n",
        "  else:\n",
        "    g = mode(gpe)\n",
        "\n",
        "  return y, g"
      ],
      "metadata": {
        "id": "aLfMz7lOust_"
      },
      "execution_count": 5,
      "outputs": []
    },
    {
      "cell_type": "code",
      "source": [
        "tokenization = {'2001': {}, '2002': {}, '2003': {}, '2004': {}, 'NA':{}}\n",
        "\n",
        "for fname in dir_list:\n",
        "  file = open(fname)\n",
        "  c = 0\n",
        "  content_list = file.readlines()\n",
        "  while '\\n' in content_list:\n",
        "    content_list.remove('\\n')\n",
        "  for content in content_list:\n",
        "    c = c + 1\n",
        "    year, location = data_processing(content)\n",
        "    filename = fname.replace(\"_docs.txt\", str(c))\n",
        "    if location in tokenization[year]:\n",
        "      tokenization[year][location].append(filename)\n",
        "    else:\n",
        "      tokenization[year][location]=[]\n",
        "      tokenization[year][location].append(filename)\n",
        "\n",
        "print(tokenization)"
      ],
      "metadata": {
        "id": "_Zh9edi0IMBn",
        "colab": {
          "base_uri": "https://localhost:8080/"
        },
        "outputId": "67b12a0d-f804-4d78-dc57-56f14394a5d0"
      },
      "execution_count": 7,
      "outputs": [
        {
          "output_type": "stream",
          "name": "stdout",
          "text": [
            "{'2001': {'afghanistan': ['CIA33']}, '2002': {'detroit': ['FBI11'], 'toronto': ['CIA2'], 'khost area': ['CIA6'], 'cuba': ['CIA36']}, '2003': {'london': ['NSA1', 'FBI2'], 'amsterdam': ['NSA2', 'CIA13'], 'marrakech morocco': ['NSA4'], 'moscow': ['NSA5', 'CIA17'], 'nassau': ['NSA6'], 'santo domingo': ['NSA9', 'CIA3', 'CIA23'], 'paris': ['NSA10', 'CIA7'], 'montreal': ['FBI1'], 'omar evertts': ['FBI3'], 'chicago': ['FBI4', 'FBI6'], 'charlotte nc': ['FBI5'], 'toronto': ['FBI7'], 'virginia': ['FBI8'], 'texas': ['FBI9', 'FBI13', 'FBI19'], 'columbia': ['FBI10'], 'kansas': ['FBI12'], 'clifton nj': ['FBI14'], 'madrid': ['FBI16'], 'detroit': ['FBI23'], 'cairo': ['FBI24', 'CIA1', 'CIA24'], 'houston': ['FBI25'], 'calamar': ['CIA4'], 'peshawar': ['CIA8', 'CIA11', 'CIA15', 'CIA19'], 'casablanca': ['CIA12', 'CIA21'], 'windsor ontario': ['CIA16'], 'jeddah': ['CIA18'], 'NA': ['CIA20'], 'hyderabad': ['CIA22'], 'argentina': ['CIA30'], 'bahamas': ['CIA32']}, '2004': {'russia': ['NSA14'], 'tehran': ['NSA15'], 'havana': ['NSA16', 'NSA22'], 'tampico mexico': ['NSA19'], 'pakistan': ['NSA20'], 'bogota': ['NSA21'], 'miami': ['FBI15', 'FBI40'], 'usa': ['FBI20'], 'london': ['FBI22'], 'carrizo': ['FBI26'], 'newark nj': ['FBI27'], 'belgium': ['FBI28'], 'glade dr': ['FBI30', 'FBI35'], 'detroit': ['FBI31', 'FBI34', 'FBI36'], 'bellaire texas': ['FBI32'], 'bellaire': ['FBI33'], 'houston': ['FBI37'], 'tx': ['FBI38'], 'us': ['FBI39'], 'baltimore': ['FBI41'], 'texas': ['USCBP1'], 'panama city': ['CIA25'], 'nassau': ['CIA26', 'CIA42', 'CIA43'], 'blagoveshchensk': ['CIA29'], 'karachi': ['CIA37'], 'casablanca': ['CIA39'], 'NA': ['CIA41'], 'afghanistan': ['DIA2'], 'feyzabad': ['DIA3']}, 'NA': {'paris': ['NSA3'], 'panama city': ['NSA7', 'CIA14'], 'casablanca': ['NSA8', 'CIA28'], 'pakistan': ['NSA11', 'NSA18'], 'calamar columbia': ['NSA12'], 'tampico mexico': ['NSA13', 'NSA17'], 'miami beach fl': ['FBI17'], 'detroit': ['FBI18'], 'bahamas': ['FBI21'], 'NA': ['FBI29'], 'belgium': ['USCBP2'], 'russia': ['CIA5'], 'liberia': ['CIA9'], 'london': ['CIA10'], 'caracas venezuela': ['CIA27'], 'cuba': ['CIA31'], 'moscow': ['CIA34'], 'bucaramanga': ['CIA35'], 'nassau': ['CIA38'], 'saudi arabia': ['CIA40'], 'chechnya': ['DIA1']}}\n"
          ]
        }
      ]
    }
  ]
}